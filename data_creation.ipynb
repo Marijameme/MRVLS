{
 "cells": [
  {
   "cell_type": "code",
   "execution_count": 3,
   "id": "d0bea65f",
   "metadata": {},
   "outputs": [],
   "source": [
    "import numpy as np\n",
    "from fractions import Fraction"
   ]
  },
  {
   "cell_type": "code",
   "execution_count": 16,
   "id": "b6dbf932",
   "metadata": {},
   "outputs": [],
   "source": [
    "small_data_dim = [(7,5), (10,7), (15,10),(15,12),(20,15)]\n",
    "small_data_intervals = [(-10, 10), (-20, 20), (-30, 30), (-40, 40), (-50, 50)]\n",
    "big_data_dim = [(35,30), (45,30),(150,50), (150,100), (200,150)]\n",
    "big_data_intervals = [(-150, 150), (-200,200), (-250,250), (-300,300), (-350,350)]"
   ]
  },
  {
   "cell_type": "code",
   "execution_count": 17,
   "id": "243ac424",
   "metadata": {},
   "outputs": [],
   "source": [
    "for i in range(len(small_data_dim)):\n",
    "    m = small_data_dim[i][0]\n",
    "    n = small_data_dim[i][1]\n",
    "    a = small_data_intervals[i][0]\n",
    "    b = small_data_intervals[i][1]\n",
    "    A = np.random.randint(a, b, size=(m,n))\n",
    "    b = np.random.randint(a,b, size=m)\n",
    "    try:\n",
    "        x = np.linalg.lstsq(A, b, rcond=None)[0]\n",
    "    except np.linalg.LinAlgError:\n",
    "        print('nema resenje')\n",
    "        i -= 1;\n",
    "    np.save(f'data/small_data/{i}_A', A)\n",
    "    np.save(f'data/small_data/{i}_b', b)\n",
    "    "
   ]
  },
  {
   "cell_type": "code",
   "execution_count": 18,
   "id": "12090bd3",
   "metadata": {},
   "outputs": [],
   "source": [
    "for i,((m,n),(a,b)) in enumerate(zip(big_data_dim, big_data_intervals)):\n",
    "    A = np.random.randint(a, b, size=(m,n))\n",
    "    b = np.random.randint(a,b, size=m)\n",
    "    np.save(f'data/big_data/{i}_A', A)\n",
    "    np.save(f'data/big_data/{i}_b', b)"
   ]
  },
  {
   "cell_type": "code",
   "execution_count": null,
   "id": "863a43b0",
   "metadata": {},
   "outputs": [],
   "source": []
  },
  {
   "cell_type": "code",
   "execution_count": null,
   "id": "88c9f80a",
   "metadata": {},
   "outputs": [],
   "source": []
  }
 ],
 "metadata": {
  "kernelspec": {
   "display_name": "Python(RI)",
   "language": "python",
   "name": "env"
  },
  "language_info": {
   "codemirror_mode": {
    "name": "ipython",
    "version": 3
   },
   "file_extension": ".py",
   "mimetype": "text/x-python",
   "name": "python",
   "nbconvert_exporter": "python",
   "pygments_lexer": "ipython3",
   "version": "3.10.12"
  }
 },
 "nbformat": 4,
 "nbformat_minor": 5
}
