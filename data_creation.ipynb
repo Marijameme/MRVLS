{
 "cells": [
  {
   "cell_type": "code",
   "execution_count": 8,
   "id": "d0bea65f",
   "metadata": {},
   "outputs": [],
   "source": [
    "import random\n",
    "import numpy as np\n",
    "from fractions import Fraction"
   ]
  },
  {
   "cell_type": "code",
   "execution_count": 5,
   "id": "dfcab4b9",
   "metadata": {},
   "outputs": [],
   "source": [
    "def is_feasible(solution, A, b, eps):\n",
    "    b_est = A@solution\n",
    "    sse = sum([(x-y)**2 for x,y in zip(b, b_est)])\n",
    "\n",
    "    return sse < eps"
   ]
  },
  {
   "cell_type": "code",
   "execution_count": 16,
   "id": "48c619d4",
   "metadata": {},
   "outputs": [],
   "source": [
    "small_data_dim = [(5,5), (10,5), (10,10),(15,5),(15,10)]\n",
    "small_data_intervals = [(-10, 10), (-20, 20), (-30, 30), (-40, 40), (-50, 50)]\n",
    "big_data_dim = [(30,30), (40,30),(100,50), (100,100), (100,150)]\n",
    "big_data_intervals = [(-150, 150), (-200,200), (-250,250), (-300,300), (-350,350)]"
   ]
  },
  {
   "cell_type": "code",
   "execution_count": 3,
   "id": "f3d5e38c",
   "metadata": {},
   "outputs": [
    {
     "name": "stdout",
     "output_type": "stream",
     "text": [
      "Matrix A:\n",
      " [[  6   2  -8   0   4   3  -2   3 -10   8]\n",
      " [ -3  -7   7   4  -1   8  -5  -8   2  -5]\n",
      " [  8  -3   5  -8   9  -6  -3 -10   2  -7]\n",
      " [ -5  -3  -4  -4   1  -5 -10   8   6   8]\n",
      " [  8  -8  -7   3  -5  -7   8  -6  -4   9]]\n",
      "Vector b:\n",
      " [ 4  1  7 -1  0]\n",
      "Real solution x:\n",
      " [ 0.2298624  -0.03412642 -0.00903547 -0.13089183  0.27489601  0.05084242\n",
      " -0.18123707 -0.15354721 -0.16126901 -0.01872991]\n",
      "Rational solution x:\n",
      " [Fraction(228677, 994843), Fraction(-33212, 973205), Fraction(-8737, 966967), Fraction(-69505, 531011), Fraction(2247, 8174), Fraction(43753, 860561), Fraction(-28381, 156596), Fraction(-78152, 508977), Fraction(-148198, 918949), Fraction(-15975, 852914)]\n"
     ]
    }
   ],
   "source": [
    "# Define matrix dimensions\n",
    "m, n = 5, 10  # m rows, n columns\n",
    "\n",
    "\n",
    "A = np.random.randint(-10, 10, size=(m, n))\n",
    "b = np.random.randint(-10, 10, size=m)\n",
    "\n",
    "# Compute real-valued solution\n",
    "x_real = np.linalg.lstsq(A, b, rcond=None)[0]\n",
    "\n",
    "# Convert the real solution to rational numbers\n",
    "x_rational = [Fraction(xi).limit_denominator() for xi in x_real]\n",
    "\n",
    "# Print the results\n",
    "print(\"Matrix A:\\n\", A)\n",
    "print(\"Vector b:\\n\", b)\n",
    "print(\"Real solution x:\\n\", x_real)\n",
    "print(\"Rational solution x:\\n\", x_rational)\n"
   ]
  },
  {
   "cell_type": "code",
   "execution_count": 11,
   "id": "a8b9a73f",
   "metadata": {},
   "outputs": [
    {
     "data": {
      "text/plain": [
       "np.True_"
      ]
     },
     "execution_count": 11,
     "metadata": {},
     "output_type": "execute_result"
    }
   ],
   "source": [
    "x_est = [float(xi) for xi in x_rational]\n",
    "x_est[2] = 0\n",
    "x_est[9] = 0\n",
    "b_est = A@x_est\n",
    "is_feasible(x_est, A, b, 0.05)"
   ]
  },
  {
   "cell_type": "code",
   "execution_count": 15,
   "id": "fc8315b9",
   "metadata": {},
   "outputs": [
    {
     "name": "stdout",
     "output_type": "stream",
     "text": [
      "[2.   2.   6.75 0.   0.   0.   0.   0.   0.   5.25]\n",
      "4\n"
     ]
    }
   ],
   "source": [
    "from itertools import combinations\n",
    "def brute_force_mrvls(A, b):\n",
    "    n = A.shape[1] #broj kolona\n",
    "    best_subset = None\n",
    "    min_nonzero_vars = n + 1  \n",
    "\n",
    "    for r in range(1, n + 1):\n",
    "        # za svaki moguci broj izabranih kolona biramo podmatrice izborom kolona\n",
    "        for cols in combinations(range(n), r):\n",
    "            A_sub = A[:, cols]  # uzimamo podmatricu za izabrane kolone\n",
    "            try:\n",
    "                # proveravamo da li je sistem resiv\n",
    "                x_sub = np.linalg.lstsq(A_sub, b, rcond=None)[0]\n",
    "                # proveravamo da li je resenje dovoljno dobro\n",
    "                if is_feasible(x_sub, A_sub, b, 0.05):\n",
    "                    if len(cols) < min_nonzero_vars:\n",
    "                        best_subset = cols\n",
    "                        min_nonzero_vars = len(cols)\n",
    "            except np.linalg.LinAlgError:\n",
    "                # ako je sistem neresiv, preskociti podmatricu\n",
    "                continue\n",
    "\n",
    "    if best_subset is not None:\n",
    "        x_optimal = np.zeros(n)\n",
    "        x_sub = np.linalg.lstsq(A[:, best_subset], b, rcond=None)[0]\n",
    "        x_optimal[list(best_subset)] = x_sub\n",
    "        return (x_optimal, min_nonzero_vars)\n",
    "    else:\n",
    "        return None\n",
    "\n",
    "\n",
    "x, min_non_zero_vars = brute_force_mrvls(A, b)\n",
    "print(x)\n",
    "print(min_non_zero_vars)\n"
   ]
  },
  {
   "cell_type": "code",
   "execution_count": 22,
   "id": "63d11195",
   "metadata": {},
   "outputs": [],
   "source": [
    "for i,((m,n),(a,b)) in enumerate(zip(small_data_dim, small_data_intervals)):\n",
    "    A = np.random.randint(a, b, size=(m,n))\n",
    "    b = np.random.randint(a,b, size=m)\n",
    "    np.save(f'data/small_data/{i}_A', A)\n",
    "    np.save(f'data/small_data/{i}_b', b)\n",
    "    "
   ]
  },
  {
   "cell_type": "code",
   "execution_count": 23,
   "id": "5d3891be",
   "metadata": {},
   "outputs": [],
   "source": [
    "for i,((m,n),(a,b)) in enumerate(zip(big_data_dim, big_data_intervals)):\n",
    "    A = np.random.randint(a, b, size=(m,n))\n",
    "    b = np.random.randint(a,b, size=m)\n",
    "    np.save(f'data/big_data/{i}_A', A)\n",
    "    np.save(f'data/big_data/{i}_b', b)"
   ]
  },
  {
   "cell_type": "code",
   "execution_count": null,
   "id": "deae4efc",
   "metadata": {},
   "outputs": [],
   "source": []
  }
 ],
 "metadata": {
  "kernelspec": {
   "display_name": "Python(RI)",
   "language": "python",
   "name": "env"
  },
  "language_info": {
   "codemirror_mode": {
    "name": "ipython",
    "version": 3
   },
   "file_extension": ".py",
   "mimetype": "text/x-python",
   "name": "python",
   "nbconvert_exporter": "python",
   "pygments_lexer": "ipython3",
   "version": "3.10.12"
  }
 },
 "nbformat": 4,
 "nbformat_minor": 5
}
