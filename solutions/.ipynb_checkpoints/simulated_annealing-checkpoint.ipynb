{
 "cells": [
  {
   "cell_type": "code",
   "execution_count": 1,
   "metadata": {},
   "outputs": [],
   "source": [
    "import numpy as np\n",
    "from itertools import combinations\n",
    "import random\n",
    "import time"
   ]
  },
  {
   "cell_type": "code",
   "execution_count": 2,
   "metadata": {},
   "outputs": [],
   "source": [
    "def is_feasible(solution_sub, A_sub, b, eps):\n",
    "    b_est = A_sub @ solution_sub  # A_sub and solution_sub must have matching dimensions\n",
    "    sse = np.sum((b - b_est)**2)\n",
    "    return sse < eps"
   ]
  },
  {
   "cell_type": "code",
   "execution_count": 3,
   "metadata": {},
   "outputs": [],
   "source": [
    "# initialize random sols\n",
    "def initialize_population(A, b, population_size):\n",
    "    n = A.shape[1]\n",
    "    population = []\n",
    "\n",
    "    for _ in range(population_size):\n",
    "        # chose random columns and make a submatrix corresponding to those columns\n",
    "        cols = random.sample(range(n), random.randint(1, n))  \n",
    "        A_sub = A[:, cols]  \n",
    "\n",
    "        try:\n",
    "            solution_sub = np.linalg.lstsq(A_sub, b, rcond=None)[0]  # solve for A_sub\n",
    "            solution = np.zeros(n)  # full-sized solution vector\n",
    "            solution[cols] = solution_sub  # Assign the least-squares solution to correct indices\n",
    "            population.append((cols, solution))\n",
    "        except np.linalg.LinAlgError:\n",
    "            continue\n",
    "\n",
    "    return population"
   ]
  },
  {
   "cell_type": "code",
   "execution_count": 4,
   "metadata": {},
   "outputs": [],
   "source": [
    "def fitness(solution, A, b, eps):\n",
    "    cols, solution_vec = solution\n",
    "    A_sub = A[:, cols]\n",
    "\n",
    "    if is_feasible(solution_vec[cols], A_sub, b, eps):\n",
    "        return len(cols)  # fewer non-zero variables is better\n",
    "    \n",
    "    return float('inf')  # penalise infeasible solutions\n"
   ]
  },
  {
   "cell_type": "code",
   "execution_count": 5,
   "metadata": {},
   "outputs": [],
   "source": [
    "def tournament_selection(population, tournament_size, A, b, eps):\n",
    "    tournament = random.sample(population, tournament_size)\n",
    "    tournament.sort(key=lambda x: fitness(x, A, b, eps))\n",
    "    return tournament[0]"
   ]
  },
  {
   "cell_type": "code",
   "execution_count": 6,
   "metadata": {},
   "outputs": [],
   "source": [
    "def crossover(parent1, parent2, A, b):\n",
    "\n",
    "    cols1, sol1 = parent1\n",
    "    cols2, sol2 = parent2\n",
    "    child_cols = list(set(cols1) | set(cols2))  # union of column sets\n",
    "\n",
    "    try:\n",
    "        A_sub = A[:, child_cols]\n",
    "        child_solution_sub = np.linalg.lstsq(A_sub, b, rcond=None)[0]  \n",
    "        child_solution = np.zeros(A.shape[1])\n",
    "        child_solution[child_cols] = child_solution_sub\n",
    "    except np.linalg.LinAlgError:\n",
    "        child_solution = np.zeros(A.shape[1])\n",
    "        \n",
    "    return (child_cols, child_solution)\n"
   ]
  },
  {
   "cell_type": "code",
   "execution_count": 7,
   "metadata": {},
   "outputs": [],
   "source": [
    "def mutate(chromosome, mutation_rate, A, b):\n",
    "\n",
    "    cols, solution = chromosome\n",
    "    n = A.shape[1]\n",
    "    new_cols = list(cols)\n",
    "\n",
    "    for i in range(len(new_cols)):\n",
    "        if random.random() < mutation_rate:\n",
    "            new_cols[i] = random.randint(0, n - 1)  \n",
    "\n",
    "    try:\n",
    "        A_sub = A[:, new_cols]\n",
    "        solution_sub = np.linalg.lstsq(A_sub, b, rcond=None)[0] \n",
    "        new_solution = np.zeros(n)\n",
    "        new_solution[new_cols] = solution_sub\n",
    "    except np.linalg.LinAlgError:\n",
    "        new_solution = np.zeros(n)\n",
    "        \n",
    "    return (new_cols, new_solution)\n"
   ]
  },
  {
   "cell_type": "code",
   "execution_count": 8,
   "metadata": {},
   "outputs": [],
   "source": [
    "def genetic_algorithm(A, b, eps, population_size=50, generations=100, mutation_rate=0.1, tournament_size=5):\n",
    "\n",
    "    population = initialize_population(A, b, population_size)\n",
    "    \n",
    "    for generation in range(generations):\n",
    "        new_population = []\n",
    "        \n",
    "        for _ in range(population_size):\n",
    "            parent1 = tournament_selection(population, tournament_size, A, b, eps)\n",
    "            parent2 = tournament_selection(population, tournament_size, A, b, eps)\n",
    "            child = crossover(parent1, parent2, A, b)\n",
    "            child = mutate(child, mutation_rate, A, b)\n",
    "            new_population.append(child)\n",
    "        \n",
    "        population = new_population\n",
    "\n",
    "    population.sort(key=lambda x: fitness(x, A, b, eps))\n",
    "    best_solution = population[0]\n",
    "    best_cols, best_sol = best_solution\n",
    "    \n",
    "    return best_sol, len(best_cols)\n"
   ]
  },
  {
   "cell_type": "code",
   "execution_count": 9,
   "metadata": {},
   "outputs": [
    {
     "name": "stdout",
     "output_type": "stream",
     "text": [
      "Optimal solution found with 5 non-zero variables:\n",
      "[0.21421986 0.10869168 0.42014994 0.63514562 0.89607565]\n",
      "Time taken: 1.278324842453003 seconds\n"
     ]
    }
   ],
   "source": [
    "A = np.load('../data/small_data/1_A.npy')  \n",
    "b = np.load('../data/small_data/1_b.npy')  \n",
    "\n",
    "_, res, _, _ = np.linalg.lstsq(A, b, rcond=None)\n",
    "eps = res * 1.01\n",
    "\n",
    "start_time = time.time()\n",
    "x_optimal, min_nonzero_vars = genetic_algorithm(A, b, eps)\n",
    "end_time = time.time()\n",
    "\n",
    "print(f\"Optimal solution found with {min_nonzero_vars} non-zero variables:\\n{x_optimal}\")\n",
    "print(f\"Time taken: {end_time - start_time} seconds\")\n"
   ]
  },
  {
   "cell_type": "code",
   "execution_count": null,
   "metadata": {},
   "outputs": [],
   "source": []
  }
 ],
 "metadata": {
  "kernelspec": {
   "display_name": "Python 3 (ipykernel)",
   "language": "python",
   "name": "python3"
  },
  "language_info": {
   "codemirror_mode": {
    "name": "ipython",
    "version": 3
   },
   "file_extension": ".py",
   "mimetype": "text/x-python",
   "name": "python",
   "nbconvert_exporter": "python",
   "pygments_lexer": "ipython3",
   "version": "3.10.12"
  }
 },
 "nbformat": 4,
 "nbformat_minor": 2
}
