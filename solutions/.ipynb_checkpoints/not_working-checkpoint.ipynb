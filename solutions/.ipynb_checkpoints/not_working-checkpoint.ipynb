{
 "cells": [
  {
   "cell_type": "code",
   "execution_count": 1,
   "id": "5056082a",
   "metadata": {},
   "outputs": [],
   "source": [
    "import random\n",
    "import numpy as np"
   ]
  },
  {
   "cell_type": "code",
   "execution_count": null,
   "id": "c1ef9510",
   "metadata": {},
   "outputs": [],
   "source": [
    "def is_feasible(solution, A, b, eps):\n",
    "    b_est = A@solution\n",
    "    sse = sum([(x-y)**2 for x,y in zip(b, b_est)])\n",
    "\n",
    "    return sse < eps"
   ]
  },
  {
   "cell_type": "code",
   "execution_count": null,
   "id": "a4fde6ab",
   "metadata": {},
   "outputs": [],
   "source": [
    "def init_q_vector(n):\n",
    "    P = [np.random.randint(-1, 10) for _ in range(n)]\n",
    "    Q = [np.random.randint(1, 50) for _ in range(n)] #ne sme da sadrzi nulu\n",
    "    \n",
    "    return [p/q for p,q in zip(P,Q)]"
   ]
  },
  {
   "cell_type": "code",
   "execution_count": 4,
   "id": "db42c4a8",
   "metadata": {},
   "outputs": [],
   "source": [
    "class Individual:\n",
    "    def __init__(self, A, b, eps):\n",
    "        matrix_dim = len(A[1])\n",
    "        self.x = init_q_vector(matrix_dim)\n",
    "        self.fitness = self.calc_fitness(A, b, eps)\n",
    "        self.non_zero_vars = len([y != 0 for y in self.x])\n",
    "        \n",
    "    def calc_fitness(self, A, b, eps):\n",
    "        if not is_feasible(self.x, A, b, eps):\n",
    "            return float('inf')\n",
    "\n",
    "        value = len([a != 0 for a in self.x])\n",
    "\n",
    "        return value "
   ]
  },
  {
   "cell_type": "code",
   "execution_count": 5,
   "id": "5a367b5f",
   "metadata": {},
   "outputs": [],
   "source": [
    "\n",
    "def selection(population, tournament_size):\n",
    "    chosen = random.sample(population, tournament_size)\n",
    "    return min(chosen, key=lambda x: x.fitness)"
   ]
  },
  {
   "cell_type": "code",
   "execution_count": 6,
   "id": "ed186a36",
   "metadata": {},
   "outputs": [],
   "source": [
    "\n",
    "def crossover(parent1, parent2, child1, child2):\n",
    "    random_pos = random.randrange(0, len(parent1.x))\n",
    "    \n",
    "    child1.x[:random_pos] = parent1.x[:random_pos]\n",
    "    child1.x[random_pos:] = parent2.x[random_pos:]\n",
    "    \n",
    "    child2.x[:random_pos] = parent2.x[:random_pos]\n",
    "    child2.x[random_pos:] = parent1.x[random_pos:]"
   ]
  },
  {
   "cell_type": "code",
   "execution_count": 30,
   "id": "e1af56f7",
   "metadata": {},
   "outputs": [],
   "source": [
    "\n",
    "def mutation(individual, mutation_prob):\n",
    "    for i in range(len(individual.x)):\n",
    "        if random.random() < mutation_prob:\n",
    "            individual.x[i] = 0.0"
   ]
  },
  {
   "cell_type": "code",
   "execution_count": 18,
   "id": "1d11f67b",
   "metadata": {},
   "outputs": [],
   "source": [
    "\n",
    "def ga(A, b, eps, population_size, num_generations, tournament_size, elitism_size, mutation_prob):\n",
    "    population = [Individual(A, b, eps) for _ in range(population_size)]\n",
    "    new_population = population.copy()\n",
    "    \n",
    "    for i in range(num_generations):\n",
    "        population.sort(key=lambda x: x.fitness)\n",
    "        new_population[:elitism_size] = population[:elitism_size]\n",
    "        for j in range(elitism_size, population_size, 2):\n",
    "            parent1 = selection(population, tournament_size)\n",
    "            parent2 = selection(population, tournament_size) # TODO razlikuju se\n",
    "            \n",
    "            crossover(parent1, parent2, child1=new_population[j], child2=new_population[j+1])\n",
    "\n",
    "            mutation(new_population[j], mutation_prob)\n",
    "            mutation(new_population[j+1], mutation_prob)\n",
    "            \n",
    "            new_population[j].fitness = new_population[j].calc_fitness(A, b, eps)\n",
    "            new_population[j+1].fitness = new_population[j+1].calc_fitness(A, b, eps)\n",
    "        \n",
    "        population = new_population.copy()\n",
    "    return min(population, key=lambda x: x.fitness)"
   ]
  },
  {
   "cell_type": "code",
   "execution_count": 19,
   "id": "bf14419b",
   "metadata": {},
   "outputs": [],
   "source": [
    "A = np.random.rand(100, 50) #matrica 100x50\n",
    "x = np.random.rand(50) #resenje\n",
    "for i in range(len(x)):\n",
    "    if np.random.rand() <= 0.25:\n",
    "        x[i] = 0\n",
    "b = A @ x"
   ]
  },
  {
   "cell_type": "code",
   "execution_count": null,
   "id": "94d5dd1d",
   "metadata": {},
   "outputs": [],
   "source": [
    "best_individual = ga(\n",
    "    A = A,\n",
    "    b = b,\n",
    "    eps = 0.01,\n",
    "    population_size=1000,\n",
    "    num_generations=10000,\n",
    "    tournament_size=7,\n",
    "    elitism_size=10,\n",
    "    mutation_prob=0.1,\n",
    "  )"
   ]
  },
  {
   "cell_type": "code",
   "execution_count": null,
   "id": "387a2b13",
   "metadata": {},
   "outputs": [],
   "source": [
    "best_individual.x"
   ]
  },
  {
   "cell_type": "code",
   "execution_count": null,
   "id": "a397112c",
   "metadata": {},
   "outputs": [],
   "source": [
    "best_individual.fitness"
   ]
  },
  {
   "cell_type": "code",
   "execution_count": null,
   "id": "1fe846be",
   "metadata": {},
   "outputs": [],
   "source": [
    "y = []\n",
    "for i in range(len(x)):\n",
    "    y.append(abs(x[i]-best_individual.x[i]))\n",
    "print(y)\n",
    "print(sum([yi!=0 for yi in y]))"
   ]
  },
  {
   "cell_type": "code",
   "execution_count": 25,
   "id": "a0ba71af",
   "metadata": {},
   "outputs": [
    {
     "data": {
      "text/plain": [
       "array([0.        , 0.00472897, 0.84914538, 0.        , 0.40305414,\n",
       "       0.70697846, 0.11931662, 0.        , 0.        , 0.        ,\n",
       "       0.        , 0.06869473, 0.2821008 , 0.        , 0.46017785,\n",
       "       0.28512223, 0.80432387, 0.05611049, 0.59650571, 0.77118149,\n",
       "       0.49039092, 0.75617237, 0.74296041, 0.90281922, 0.5248432 ,\n",
       "       0.        , 0.56033152, 0.06415985, 0.        , 0.        ,\n",
       "       0.70411789, 0.28140551, 0.72393531, 0.80774651, 0.61650166,\n",
       "       0.64361536, 0.        , 0.97177113, 0.96166868, 0.47745193,\n",
       "       0.97536389, 0.        , 0.77185391, 0.58817122, 0.        ,\n",
       "       0.42902759, 0.2019494 , 0.        , 0.        , 0.21625149])"
      ]
     },
     "execution_count": 25,
     "metadata": {},
     "output_type": "execute_result"
    }
   ],
   "source": [
    "x"
   ]
  },
  {
   "cell_type": "code",
   "execution_count": null,
   "id": "a6878b98",
   "metadata": {},
   "outputs": [],
   "source": []
  }
 ],
 "metadata": {
  "kernelspec": {
   "display_name": "Python(RI)",
   "language": "python",
   "name": "env"
  },
  "language_info": {
   "codemirror_mode": {
    "name": "ipython",
    "version": 3
   },
   "file_extension": ".py",
   "mimetype": "text/x-python",
   "name": "python",
   "nbconvert_exporter": "python",
   "pygments_lexer": "ipython3",
   "version": "3.10.12"
  }
 },
 "nbformat": 4,
 "nbformat_minor": 5
}
