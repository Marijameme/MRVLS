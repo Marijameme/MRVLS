{
 "cells": [
  {
   "cell_type": "code",
   "execution_count": 1,
   "id": "cdfcf956",
   "metadata": {},
   "outputs": [],
   "source": [
    "import numpy as np\n",
    "from itertools import combinations\n",
    "import time"
   ]
  },
  {
   "cell_type": "code",
   "execution_count": 8,
   "id": "ccbab9d8",
   "metadata": {},
   "outputs": [],
   "source": [
    "def is_feasible(solution, A, b, eps):\n",
    "    b_est = A@solution\n",
    "    sse = sum([(x-y)**2 for x,y in zip(b, b_est)])\n",
    "    return sse < eps"
   ]
  },
  {
   "cell_type": "code",
   "execution_count": 27,
   "id": "0009dbcd",
   "metadata": {},
   "outputs": [],
   "source": [
    "def brute_force_mrvls(A, b, eps):\n",
    "    n = A.shape[1] #broj kolona\n",
    "    best_subset = None\n",
    "    min_nonzero_vars = n + 1  \n",
    "\n",
    "    for r in range(1, n + 1):\n",
    "        # za svaki moguci broj izabranih kolona biramo podmatrice izborom kolona\n",
    "        for cols in combinations(range(n), r):\n",
    "            A_sub = A[:, cols]  # uzimamo podmatricu za izabrane kolone\n",
    "            try:\n",
    "                # proveravamo da li je sistem resiv\n",
    "                x_sub = np.linalg.lstsq(A_sub, b, rcond=None)[0]\n",
    "                # proveravamo da li je resenje dovoljno dobro\n",
    "                if is_feasible(x_sub, A_sub, b, eps):\n",
    "                    if len(cols) < min_nonzero_vars:\n",
    "                        best_subset = cols\n",
    "                        min_nonzero_vars = len(cols)\n",
    "            except np.linalg.LinAlgError:\n",
    "                # ako je sistem neresiv, preskociti podmatricu\n",
    "                continue\n",
    "\n",
    "    if best_subset is not None:\n",
    "        x_optimal = np.zeros(n)\n",
    "        x_sub = np.linalg.lstsq(A[:, best_subset], b, rcond=None)[0]\n",
    "        x_optimal[list(best_subset)] = x_sub\n",
    "        return (x_optimal, min_nonzero_vars)\n",
    "    else:\n",
    "        return None\n"
   ]
  },
  {
   "cell_type": "code",
   "execution_count": null,
   "id": "f5985dbf",
   "metadata": {},
   "outputs": [],
   "source": [
    "times = []\n",
    "res = []\n",
    "for i in range(5):\n",
    "    A = np.load(f'../data/big_data/{i}_A.npy')\n",
    "    b = np.load(f'../data/big_data/{i}_b.npy')\n",
    "    start = time.time()\n",
    "    r = brute_force_mrvls(A, b, 0.05)\n",
    "    end = time.time()\n",
    "    times.append(end-start) #sec\n",
    "    res.append(r)\n",
    "    "
   ]
  },
  {
   "cell_type": "code",
   "execution_count": null,
   "id": "59cde8e8",
   "metadata": {},
   "outputs": [],
   "source": [
    "times"
   ]
  },
  {
   "cell_type": "code",
   "execution_count": null,
   "id": "d3c66bb5",
   "metadata": {},
   "outputs": [],
   "source": [
    "res"
   ]
  },
  {
   "cell_type": "code",
   "execution_count": null,
   "id": "2a06e865",
   "metadata": {},
   "outputs": [],
   "source": []
  },
  {
   "cell_type": "code",
   "execution_count": null,
   "id": "077d4f10",
   "metadata": {},
   "outputs": [],
   "source": []
  }
 ],
 "metadata": {
  "kernelspec": {
   "display_name": "Python(RI)",
   "language": "python",
   "name": "env"
  },
  "language_info": {
   "codemirror_mode": {
    "name": "ipython",
    "version": 3
   },
   "file_extension": ".py",
   "mimetype": "text/x-python",
   "name": "python",
   "nbconvert_exporter": "python",
   "pygments_lexer": "ipython3",
   "version": "3.10.12"
  }
 },
 "nbformat": 4,
 "nbformat_minor": 5
}
