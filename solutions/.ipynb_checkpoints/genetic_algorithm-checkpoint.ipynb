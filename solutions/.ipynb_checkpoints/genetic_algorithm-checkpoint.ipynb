{
 "cells": [
  {
   "cell_type": "code",
   "execution_count": 1,
   "id": "ef9644cc",
   "metadata": {},
   "outputs": [],
   "source": [
    "import numpy as np\n",
    "from itertools import combinations\n",
    "import random\n",
    "import time"
   ]
  },
  {
   "cell_type": "code",
   "execution_count": 2,
   "id": "5902df29",
   "metadata": {},
   "outputs": [],
   "source": [
    "def is_feasible(solution, A, b, eps):\n",
    "    b_est = A @ solution\n",
    "    sse = np.sum((b - b_est)**2)\n",
    "    return sse < eps"
   ]
  },
  {
   "cell_type": "code",
   "execution_count": 3,
   "id": "7e6619c8",
   "metadata": {},
   "outputs": [],
   "source": [
    "class Individual:\n",
    "    def __init__(self, A, b, eps):            \n",
    "        n = A.shape[1]\n",
    "        self.cols = sort(random.sample(range(n), random.randint(1, n)))\n",
    "        self.update_x(A, b)\n",
    "        self.fitness = self.calc_fitness(A, b, eps)\n",
    "    \n",
    "    def update_x(self, A, b):\n",
    "        n = A.shape[1]\n",
    "        A_sub = A[:,self.cols]\n",
    "        try:\n",
    "            sol_sub = np.linalg.lstsq(A_sub, b, rcond=None)[0]\n",
    "            self.x = np.zeros(n)\n",
    "            self.x[self.cols] = sol_sub\n",
    "        except np.linalg.LinAlgError:\n",
    "            self.cols = random.sample(range(n), random.randint(1, n))\n",
    "            self.cols.sort()\n",
    "            self.update_x()\n",
    "            \n",
    "    def calc_fitness(self, A, b, eps):\n",
    "        if not is_feasible(self.x, A, b, eps):\n",
    "            return float('inf')\n",
    "        return len(self.cols)"
   ]
  },
  {
   "cell_type": "code",
   "execution_count": 4,
   "id": "0ae9a238",
   "metadata": {},
   "outputs": [],
   "source": [
    "def selection(population, tournament_size, A, b, eps):\n",
    "    chosen = random.sample(population, tournament_size)\n",
    "    return min(chosen, key= lambda x: x.calc_fitness(A, b, eps))"
   ]
  },
  {
   "cell_type": "code",
   "execution_count": 5,
   "id": "82083ce5",
   "metadata": {},
   "outputs": [],
   "source": [
    "def crossover(parent1, parent2, child, A, b):\n",
    "    child.cols = list(set(parent1.cols) | set(parent2.cols)) #unija kolona\n",
    "    child.update_x(A, b)"
   ]
  },
  {
   "cell_type": "code",
   "execution_count": 9,
   "id": "3d08392b",
   "metadata": {},
   "outputs": [],
   "source": [
    "def mutation(individual, mutation_prob, A, b):\n",
    "    n = A.shape[1]\n",
    "    for i in range(len(individual.cols)):\n",
    "        if random.random() < mutation_prob:\n",
    "            individual.cols[i] = random.randint(0, n-1)\n",
    "    individual.cols = list(set(individual.cols))\n",
    "    individual.update_x(A, b)"
   ]
  },
  {
   "cell_type": "code",
   "execution_count": 10,
   "id": "b580f36b",
   "metadata": {},
   "outputs": [],
   "source": [
    "\n",
    "def ga(A, b, eps, population_size, num_generations, tournament_size, elitism_size, mutation_prob):\n",
    "    population = [Individual(A, b, eps) for _ in range(population_size)]\n",
    "    new_population = population.copy()\n",
    "    \n",
    "    for i in range(num_generations):\n",
    "        population.sort(key=lambda x: x.fitness)\n",
    "        new_population[:elitism_size] = population[:elitism_size]\n",
    "        for j in range(elitism_size, population_size):\n",
    "            parent1 = selection(population, tournament_size, A, b, eps)\n",
    "            parent2 = parent1\n",
    "            while parent2 == parent1:\n",
    "                parent2 = selection(population, tournament_size, A, b, eps) \n",
    "            \n",
    "            crossover(parent1, parent2, new_population[j], A, b)\n",
    "\n",
    "            mutation(new_population[j], mutation_prob, A, b)\n",
    "            \n",
    "            new_population[j].fitness = new_population[j].calc_fitness(A, b, eps)\n",
    "        \n",
    "        population = new_population.copy()\n",
    "    return min(population, key=lambda x: x.fitness)"
   ]
  },
  {
   "cell_type": "code",
   "execution_count": 11,
   "id": "e622028c",
   "metadata": {},
   "outputs": [],
   "source": [
    "results_small = []\n",
    "times_small = []\n",
    "for i in range(5):\n",
    "    A = np.load(f'../data/small_data/{i}_A.npy')  \n",
    "    b = np.load(f'../data/small_data/{i}_b.npy')  \n",
    "\n",
    "    _, res, _, _ = np.linalg.lstsq(A, b, rcond=None)\n",
    "    eps = res * 1.01\n",
    "\n",
    "    start_time = time.time()\n",
    "    best_individual = ga(A, b, eps,population_size=100,\n",
    "    num_generations=200,\n",
    "    tournament_size=7,\n",
    "    elitism_size=10,\n",
    "    mutation_prob=0.002,)\n",
    "    end_time = time.time()\n",
    "    results_small.append(best_individual.fitness)\n",
    "    times_small.append(end_time-start_time)\n",
    "\n"
   ]
  },
  {
   "cell_type": "code",
   "execution_count": 12,
   "id": "fff832be",
   "metadata": {},
   "outputs": [],
   "source": [
    "results_big = []\n",
    "times_big = []\n",
    "for i in range(5):\n",
    "    A = np.load(f'../data/big_data/{i}_A.npy')  \n",
    "    b = np.load(f'../data/big_data/{i}_b.npy')  \n",
    "\n",
    "    _, res, _, _ = np.linalg.lstsq(A, b, rcond=None)\n",
    "    eps = res * 1.01\n",
    "\n",
    "    start_time = time.time()\n",
    "    best_individual = ga(A, b, eps,population_size=100,\n",
    "    num_generations=200,\n",
    "    tournament_size=7,\n",
    "    elitism_size=10,\n",
    "    mutation_prob=0.002,)\n",
    "    end_time = time.time()\n",
    "    results_small.append(best_individual.fitness)\n",
    "    times_big.append(end_time-start_time)\n",
    "\n"
   ]
  },
  {
   "cell_type": "code",
   "execution_count": 13,
   "id": "2a59ece8",
   "metadata": {},
   "outputs": [],
   "source": [
    "np.save('../tests/ga_times', times_small)"
   ]
  },
  {
   "cell_type": "code",
   "execution_count": 14,
   "id": "b904d22e",
   "metadata": {},
   "outputs": [],
   "source": [
    "np.save('../tests/ga_times_big', times_big)"
   ]
  },
  {
   "cell_type": "code",
   "execution_count": 15,
   "id": "d0325314",
   "metadata": {},
   "outputs": [
    {
     "data": {
      "text/plain": [
       "[4.335378170013428,\n",
       " 4.452957630157471,\n",
       " 5.191068410873413,\n",
       " 4.627157926559448,\n",
       " 5.915610313415527]"
      ]
     },
     "execution_count": 15,
     "metadata": {},
     "output_type": "execute_result"
    }
   ],
   "source": [
    "times_small"
   ]
  },
  {
   "cell_type": "code",
   "execution_count": 16,
   "id": "bc94a4df",
   "metadata": {},
   "outputs": [
    {
     "data": {
      "text/plain": [
       "[9.083400011062622,\n",
       " 10.30995798110962,\n",
       " 25.375762701034546,\n",
       " 324.92864775657654,\n",
       " 463.03771901130676]"
      ]
     },
     "execution_count": 16,
     "metadata": {},
     "output_type": "execute_result"
    }
   ],
   "source": [
    "times_big"
   ]
  },
  {
   "cell_type": "code",
   "execution_count": null,
   "id": "5761e346",
   "metadata": {},
   "outputs": [],
   "source": []
  }
 ],
 "metadata": {
  "kernelspec": {
   "display_name": "Python(RI)",
   "language": "python",
   "name": "env"
  },
  "language_info": {
   "codemirror_mode": {
    "name": "ipython",
    "version": 3
   },
   "file_extension": ".py",
   "mimetype": "text/x-python",
   "name": "python",
   "nbconvert_exporter": "python",
   "pygments_lexer": "ipython3",
   "version": "3.10.12"
  }
 },
 "nbformat": 4,
 "nbformat_minor": 5
}
