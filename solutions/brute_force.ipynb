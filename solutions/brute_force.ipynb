{
 "cells": [
  {
   "cell_type": "code",
   "execution_count": 6,
   "id": "cdfcf956",
   "metadata": {},
   "outputs": [],
   "source": [
    "import numpy as np\n",
    "from itertools import combinations\n",
    "import time"
   ]
  },
  {
   "cell_type": "code",
   "execution_count": 7,
   "id": "5aa4c567",
   "metadata": {},
   "outputs": [],
   "source": [
    "def is_feasible(solution, A, b, eps):\n",
    "    b_est = A@solution\n",
    "    sse = sum([(x-y)**2 for x,y in zip(b, b_est)])\n",
    "    return sse < eps"
   ]
  },
  {
   "cell_type": "code",
   "execution_count": 8,
   "id": "0009dbcd",
   "metadata": {},
   "outputs": [],
   "source": [
    "def brute_force_mrvls(A, b, eps):\n",
    "    n = A.shape[1] #broj kolona\n",
    "    best_subset = None\n",
    "    min_nonzero_vars = n + 1 \n",
    "    _, res,_,_ = np.linalg.lstsq(A, b, rcond=None)\n",
    "\n",
    "    for r in range(1, n + 1):\n",
    "        # za svaki moguci broj izabranih kolona biramo podmatrice izborom kolona\n",
    "        for cols in combinations(range(n), r):\n",
    "            A_sub = A[:, cols]  # uzimamo podmatricu za izabrane kolone\n",
    "            try:\n",
    "                # proveravamo da li je sistem resiv\n",
    "                x_sub = np.linalg.lstsq(A_sub, b, rcond=None)[0]\n",
    "                # proveravamo da li je resenje dovoljno dobro\n",
    "                if is_feasible(x_sub, A_sub, b, res*1.01):\n",
    "                    if len(cols) < min_nonzero_vars:\n",
    "                        best_subset = cols\n",
    "                        min_nonzero_vars = len(cols)\n",
    "                        break\n",
    "            except np.linalg.LinAlgError:\n",
    "                # ako je sistem neresiv, preskociti podmatricu\n",
    "                continue\n",
    "\n",
    "    if best_subset is not None:\n",
    "        x_optimal = np.zeros(n)\n",
    "        x_sub = np.linalg.lstsq(A[:, best_subset], b, rcond=None)[0]\n",
    "        x_optimal[list(best_subset)] = x_sub\n",
    "        return (x_optimal, min_nonzero_vars)\n",
    "    else:\n",
    "        return None\n"
   ]
  },
  {
   "cell_type": "code",
   "execution_count": 12,
   "id": "df43418d",
   "metadata": {
    "scrolled": false
   },
   "outputs": [],
   "source": [
    "times = []\n",
    "results = []\n",
    "for i in range(5):\n",
    "    A = np.load(f'../data/small_data/{i}_A.npy')\n",
    "    b = np.load(f'../data/small_data/{i}_b.npy')\n",
    "    start = time.time()\n",
    "    _, res,_,_ = np.linalg.lstsq(A, b, rcond=None)\n",
    "    (x,n) = brute_force_mrvls(A, b, res*1.01)\n",
    "    end = time.time()\n",
    "    times.append(end-start) #sec\n",
    "    results.append(n)"
   ]
  },
  {
   "cell_type": "code",
   "execution_count": 13,
   "id": "e11b310e",
   "metadata": {},
   "outputs": [
    {
     "data": {
      "text/plain": [
       "[0.0014383792877197266,\n",
       " 0.009335517883300781,\n",
       " 0.03735613822937012,\n",
       " 0.16786432266235352,\n",
       " 1.7865383625030518]"
      ]
     },
     "execution_count": 13,
     "metadata": {},
     "output_type": "execute_result"
    }
   ],
   "source": [
    "times"
   ]
  },
  {
   "cell_type": "code",
   "execution_count": 14,
   "id": "2b1d20b8",
   "metadata": {},
   "outputs": [
    {
     "data": {
      "text/plain": [
       "[5, 5, 7, 8, 13]"
      ]
     },
     "execution_count": 14,
     "metadata": {},
     "output_type": "execute_result"
    }
   ],
   "source": [
    "results"
   ]
  },
  {
   "cell_type": "code",
   "execution_count": 15,
   "id": "55bb33cc",
   "metadata": {},
   "outputs": [],
   "source": [
    "np.save('../tests/bf_times', np.array(times))"
   ]
  },
  {
   "cell_type": "code",
   "execution_count": null,
   "id": "6247ec1c",
   "metadata": {},
   "outputs": [],
   "source": []
  }
 ],
 "metadata": {
  "kernelspec": {
   "display_name": "Python(RI)",
   "language": "python",
   "name": "env"
  },
  "language_info": {
   "codemirror_mode": {
    "name": "ipython",
    "version": 3
   },
   "file_extension": ".py",
   "mimetype": "text/x-python",
   "name": "python",
   "nbconvert_exporter": "python",
   "pygments_lexer": "ipython3",
   "version": "3.10.12"
  }
 },
 "nbformat": 4,
 "nbformat_minor": 5
}
